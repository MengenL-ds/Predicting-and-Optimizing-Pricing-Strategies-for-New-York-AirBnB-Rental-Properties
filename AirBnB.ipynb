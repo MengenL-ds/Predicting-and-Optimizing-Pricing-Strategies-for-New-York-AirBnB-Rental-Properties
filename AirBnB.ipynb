{
 "cells": [
  {
   "cell_type": "code",
   "execution_count": null,
   "id": "8e8956d1-5c1e-4215-afe6-0cf7549a3605",
   "metadata": {
    "editable": true,
    "slideshow": {
     "slide_type": ""
    },
    "tags": []
   },
   "outputs": [],
   "source": [
    "_For this project, I chose to work with the 2019 New York City Airbnb listings dataset to predict `reviews_per_month`, which serves as a proxy for listing popularity. This analysis provides an opportunity to understand what factors make a listing popular and how guest engagement can be influenced. By identifying key drivers of guest reviews, Airbnb and hosts can use these insights to optimize their listings and potentially forecast the popularity of new properties before they are posted._\n",
    "\n",
    "_The dataset includes a variety of features such as **listing ID, name, host ID and name, neighbourhood, neighbourhood group, latitude, longitude, room type, price, minimum nights, number of reviews, last review date, calculated host listings count, reviews per month**, and **availability_365**. Each feature offers unique insights into different aspects of a listing. For example, **neighbourhood_group** reflects location desirability, **room_type** affects guest preferences, and **price** plays a crucial role in booking decisions._\n",
    "\n",
    "_After reviewing the features, it appears that a combination of **neighbourhood, neighbourhood_group, number_of_reviews, and availability_365** may be strong predictors of popularity. Listings in high-demand areas tend to receive more reviews, while **price** and **room_type** can influence booking rates. Additionally, **availability_365** may impact how frequently a listing is reviewed. To build a robust predictive model for Airbnb listing popularity, I will conduct thorough exploratory data analysis (EDA), engineer relevant features, and evaluate several machine learning models._\n",
    "\n",
    "_Below is a summary of what each feature represents:_\n",
    "\n",
    "- `id`: Unique listing ID\n",
    "- `name`: Name of the listing\n",
    "- `host_id`: Host's unique ID\n",
    "- `host_name`: Name of the host\n",
    "- `neighbourhood_group`: Borough or main location\n",
    "- `neighbourhood`: Specific area within the borough\n",
    "- `latitude`: Latitude coordinate\n",
    "- `longitude`: Longitude coordinate\n",
    "- `room_type`: Type of space offered (e.g., entire home, private room)\n",
    "- `price`: Price per night in dollars\n",
    "- `minimum_nights`: Minimum nights required for booking\n",
    "- `number_of_reviews`: Total number of reviews received\n",
    "- `last_review`: Date of the last review (YYYY-MM-DD)\n",
    "- `reviews_per_month`: Average number of reviews per month\n",
    "- `calculated_host_listings_count`: Number of listings managed by the host\n",
    "- `availability_365`: Number of days available for booking in 2019\n",
    "\n",
    "_This project aims to uncover actionable insights for hosts and Airbnb by leveraging data-driven approaches to predict listing"
   ]
  }
 ],
 "metadata": {
  "kernelspec": {
   "display_name": "Python 3 (ipykernel)",
   "language": "python",
   "name": "python3"
  },
  "language_info": {
   "codemirror_mode": {
    "name": "ipython",
    "version": 3
   },
   "file_extension": ".py",
   "mimetype": "text/x-python",
   "name": "python",
   "nbconvert_exporter": "python",
   "pygments_lexer": "ipython3",
   "version": "3.11.13"
  }
 },
 "nbformat": 4,
 "nbformat_minor": 5
}
